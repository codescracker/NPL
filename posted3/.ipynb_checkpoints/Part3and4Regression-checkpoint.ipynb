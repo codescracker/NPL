{
 "cells": [
  {
   "cell_type": "markdown",
   "metadata": {},
   "source": [
    "# Loading in the libraries."
   ]
  },
  {
   "cell_type": "code",
   "execution_count": 1,
   "metadata": {
    "collapsed": false
   },
   "outputs": [
    {
     "name": "stderr",
     "output_type": "stream",
     "text": [
      "WARNING:traits.has_traits:DEPRECATED: traits.has_traits.wrapped_class, 'the 'implements' class advisor has been deprecated. Use the 'provides' class decorator.\n"
     ]
    }
   ],
   "source": [
    "# Old libraries that we know and love.\n",
    "import numpy as np\n",
    "import matplotlib.pylab as py\n",
    "import pandas as pa\n",
    "%matplotlib inline\n",
    "\n",
    "# Our new libraries.\n",
    "from sklearn import cross_validation, linear_model, feature_selection, metrics\n",
    "import mayavi.mlab as mlab"
   ]
  },
  {
   "cell_type": "markdown",
   "metadata": {},
   "source": [
    "# Supervised Regression"
   ]
  },
  {
   "cell_type": "markdown",
   "metadata": {},
   "source": [
    "## Linear Regression"
   ]
  },
  {
   "cell_type": "code",
   "execution_count": 2,
   "metadata": {
    "collapsed": false
   },
   "outputs": [],
   "source": [
    "# Read in the data using \n",
    "Xy = pa.read_csv('Advertising.csv')"
   ]
  },
  {
   "cell_type": "code",
   "execution_count": 3,
   "metadata": {
    "collapsed": false
   },
   "outputs": [],
   "source": [
    "# Normalize data\n",
    "# We do this to make plotting and processing easier.  Many Sklearn functions do this\n",
    "# for you behind the scenes, but we do it explicitly.\n",
    "# Note, that this is a cousing of the physics idea of nondimensionalization.  Think\n",
    "# about the case where TV was measured in millions, while Radio was measured in\n",
    "# thousands.  One could imagine TV totally washing out the effect of Radio.\n",
    "# In effect, after normalization, each predictor now stands on an \"even footing\".\n",
    "#\n",
    "# Is this always a good idea?\n",
    "Xy = (Xy-Xy.min())/(Xy.max()-Xy.min())"
   ]
  },
  {
   "cell_type": "code",
   "execution_count": 4,
   "metadata": {
    "collapsed": false
   },
   "outputs": [],
   "source": [
    "# Since we will be plotting many times, we define a function.\n",
    "def myPlot(reg,X_train,y_train,X_test,y_test,xPlot,yPlot,zPlot,size=10,scale_factor=0.05):\n",
    "    mlab.clf()\n",
    "    mlab.points3d(np.array(X_train)[:,0], \n",
    "                  np.array(X_train)[:,1], \n",
    "                  np.array(y_train)[:,0],\n",
    "                  color=(1,0,0), scale_factor=scale_factor)\n",
    "    mlab.points3d(np.array(X_test)[:,0], \n",
    "                  np.array(X_test)[:,1], \n",
    "                  np.array(y_test)[:,0],\n",
    "                  color=(0,1,0), scale_factor=scale_factor)\n",
    "    mlab.mesh(xPlot,yPlot,zPlot,color=(0,0,1))\n",
    "    mlab.axes()\n",
    "    mlab.show()\n",
    "    "
   ]
  },
  {
   "cell_type": "markdown",
   "metadata": {},
   "source": [
    "## Non-linear fitting"
   ]
  },
  {
   "cell_type": "code",
   "execution_count": 5,
   "metadata": {
    "collapsed": false
   },
   "outputs": [],
   "source": [
    "# Now we try non-linear fittng.  See notes for details.  \n",
    "# Note that we add a new column which is a *non-linear* function\n",
    "# of the original data!\n",
    "XyNonlinear = Xy.copy()\n",
    "XyNonlinear['TV*Radio'] = Xy['TV']*Xy['Radio']\n",
    "\n",
    "# Select out our predictor columns and our response columns\n",
    "X = XyNonlinear.ix[:,['TV','Radio','TV*Radio']]\n",
    "y = XyNonlinear.ix[:,['Sales']]\n",
    "\n",
    "# Select subsets for training and testing\n",
    "X_train,X_test,y_train,y_test = cross_validation.train_test_split(X,\n",
    "                                                                  y,\n",
    "                                                                  test_size=0.8,\n",
    "                                                                  random_state=123)"
   ]
  },
  {
   "cell_type": "code",
   "execution_count": 6,
   "metadata": {
    "collapsed": false
   },
   "outputs": [
    {
     "data": {
      "text/plain": [
       "LinearRegression(copy_X=True, fit_intercept=True, n_jobs=1, normalize=False)"
      ]
     },
     "execution_count": 6,
     "metadata": {},
     "output_type": "execute_result"
    }
   ],
   "source": [
    "# Run the solver\n",
    "reg = linear_model.LinearRegression(fit_intercept=True)\n",
    "reg.fit(X_train,y_train)"
   ]
  },
  {
   "cell_type": "code",
   "execution_count": 7,
   "metadata": {
    "collapsed": false
   },
   "outputs": [],
   "source": [
    "# Create data for plotting\n",
    "size = 10\n",
    "\n",
    "xPlot,yPlot = np.meshgrid(np.linspace(0,1,size),\n",
    "                          np.linspace(0,1,size))\n",
    "zPlot = reg.predict(np.transpose(np.array([xPlot.flatten(),\n",
    "                                           yPlot.flatten(),\n",
    "                                           (xPlot*yPlot).flatten()])))\n",
    "zPlot = zPlot.reshape([size,size])"
   ]
  },
  {
   "cell_type": "code",
   "execution_count": 8,
   "metadata": {
    "collapsed": false
   },
   "outputs": [],
   "source": [
    "myPlot(reg,X_train,y_train,X_test,y_test,xPlot,yPlot,zPlot)"
   ]
  },
  {
   "cell_type": "code",
   "execution_count": 9,
   "metadata": {
    "collapsed": false
   },
   "outputs": [
    {
     "name": "stdout",
     "output_type": "stream",
     "text": [
      "training error\n",
      "0.000954956008276\n",
      "testing error\n",
      "0.00149444601649\n"
     ]
    }
   ],
   "source": [
    "# Use the metrics package to print our errors\n",
    "print 'training error'\n",
    "print metrics.mean_squared_error(y_train,reg.predict(X_train))\n",
    "print 'testing error'\n",
    "print metrics.mean_squared_error(y_test,reg.predict(X_test))"
   ]
  },
  {
   "cell_type": "markdown",
   "metadata": {},
   "source": [
    "### Back to the notes"
   ]
  },
  {
   "cell_type": "markdown",
   "metadata": {},
   "source": [
    "## Too much of a good thing..."
   ]
  },
  {
   "cell_type": "code",
   "execution_count": 10,
   "metadata": {
    "collapsed": false
   },
   "outputs": [],
   "source": [
    "# What about adding many non-linear combinations!  See notes for details.\n",
    "\n",
    "degree=5\n",
    "XCrazy = np.zeros([Xy.shape[0],degree**2])\n",
    "\n",
    "for i in range(degree):\n",
    "    for j in range(degree):\n",
    "        XCrazy[:,i*degree + j] = (Xy['TV']**i)*(Xy['Radio']**j)\n",
    "        \n",
    "# Select subsets for training and testing\n",
    "X_train,X_test,y_train,y_test = cross_validation.train_test_split(XCrazy,\n",
    "                                                                  y,\n",
    "                                                                  test_size=0.8,\n",
    "                                                                  random_state=123)"
   ]
  },
  {
   "cell_type": "code",
   "execution_count": 11,
   "metadata": {
    "collapsed": false
   },
   "outputs": [
    {
     "data": {
      "text/plain": [
       "LinearRegression(copy_X=True, fit_intercept=True, n_jobs=1, normalize=False)"
      ]
     },
     "execution_count": 11,
     "metadata": {},
     "output_type": "execute_result"
    }
   ],
   "source": [
    "# Run the solver\n",
    "regOver = linear_model.LinearRegression(fit_intercept=True)\n",
    "regOver.fit(X_train,y_train)"
   ]
  },
  {
   "cell_type": "code",
   "execution_count": 12,
   "metadata": {
    "collapsed": false
   },
   "outputs": [
    {
     "name": "stdout",
     "output_type": "stream",
     "text": [
      "[-6.94708351]\n",
      "[[    0.            60.55943865  -166.07190603   184.75679654\n",
      "    -72.32883146    58.42979358  -484.12475426  1297.94802249 -1408.4926764\n",
      "    538.88687256  -170.96380512  1414.03394465 -3717.84399447\n",
      "   3955.89719878 -1483.95230998   216.58492539 -1787.88418158\n",
      "   4651.20425424 -4892.06944771  1814.15721388  -100.38566969\n",
      "    829.96108306 -2151.36644677  2254.46299271  -833.66782304]]\n"
     ]
    }
   ],
   "source": [
    "print regOver.intercept_\n",
    "print regOver.coef_"
   ]
  },
  {
   "cell_type": "code",
   "execution_count": 13,
   "metadata": {
    "collapsed": false
   },
   "outputs": [],
   "source": [
    "# Create data for plotting\n",
    "size = 10\n",
    "\n",
    "xPlot,yPlot = np.meshgrid(np.linspace(0,1,size),\n",
    "                          np.linspace(0,1,size))\n",
    "\n",
    "tmp = []\n",
    "for i in range(degree):\n",
    "    for j in range(degree):\n",
    "        tmp.append( ( (xPlot**i)*(yPlot**j) ).flatten() )\n",
    "\n",
    "zPlot = regOver.predict(np.transpose(np.array(tmp)))\n",
    "zPlot = zPlot.reshape([size,size])"
   ]
  },
  {
   "cell_type": "code",
   "execution_count": 14,
   "metadata": {
    "collapsed": false
   },
   "outputs": [],
   "source": [
    "# Plot the data\n",
    "\n",
    "# Select subsets for training and testing\n",
    "X_train_plot,X_test_plot = cross_validation.train_test_split(Xy.ix[:,['TV','Radio']],\n",
    "                                                             test_size=0.8,\n",
    "                                                             random_state=123)\n",
    "\n",
    "myPlot(reg,X_train_plot,y_train,X_test_plot,y_test,xPlot,yPlot,zPlot)"
   ]
  },
  {
   "cell_type": "code",
   "execution_count": 15,
   "metadata": {
    "collapsed": false
   },
   "outputs": [
    {
     "name": "stdout",
     "output_type": "stream",
     "text": [
      "training error\n",
      "3.41438151098e-05\n",
      "testing error\n",
      "0.34846904251\n"
     ]
    }
   ],
   "source": [
    "# Use the metrics package to print our errors\n",
    "print 'training error'\n",
    "print metrics.mean_squared_error(y_train,regOver.predict(X_train))\n",
    "print 'testing error'\n",
    "print metrics.mean_squared_error(y_test,regOver.predict(X_test))"
   ]
  },
  {
   "cell_type": "markdown",
   "metadata": {},
   "source": [
    "### Back to the notes."
   ]
  },
  {
   "cell_type": "markdown",
   "metadata": {},
   "source": [
    "## Model selection!"
   ]
  },
  {
   "cell_type": "code",
   "execution_count": 16,
   "metadata": {
    "collapsed": false
   },
   "outputs": [],
   "source": [
    "# Fortunately, there is a *lot* that one can do to help.  It is possible to have\n",
    "# many predictors but still get good answers.  See notes for details...\n",
    "degree=5\n",
    "XCrazy = np.zeros([Xy.shape[0],degree**2])\n",
    "\n",
    "names = []\n",
    "for i in range(degree):\n",
    "    for j in range(degree):\n",
    "        XCrazy[:,i*degree + j] = (Xy['TV']**i)*(Xy['Radio']**j)\n",
    "        names.append('TV**%d*Radio**%d'%(i,j))\n",
    "\n",
    "# Select subsets for training and testing\n",
    "X_train,X_test,y_train,y_test = cross_validation.train_test_split(XCrazy,\n",
    "                                                                  y,\n",
    "                                                                  test_size=0.8,\n",
    "                                                                  random_state=123)"
   ]
  },
  {
   "cell_type": "code",
   "execution_count": 18,
   "metadata": {
    "collapsed": false
   },
   "outputs": [
    {
     "name": "stderr",
     "output_type": "stream",
     "text": [
      "C:\\Users\\randy\\AppData\\Local\\Enthought\\Canopy\\User\\lib\\site-packages\\sklearn\\utils\\validation.py:515: DataConversionWarning: A column-vector y was passed when a 1d array was expected. Please change the shape of y to (n_samples, ), for example using ravel().\n",
      "  y = column_or_1d(y, warn=True)\n"
     ]
    },
    {
     "data": {
      "text/plain": [
       "RFE(estimator=LinearRegression(copy_X=True, fit_intercept=True, n_jobs=1, normalize=False),\n",
       "  estimator_params=None, n_features_to_select=3, step=1, verbose=0)"
      ]
     },
     "execution_count": 18,
     "metadata": {},
     "output_type": "execute_result"
    }
   ],
   "source": [
    "# We can try None and 3 to see what we get.\n",
    "selector = feature_selection.RFE(regOver,n_features_to_select=3)\n",
    "selector.fit(X_train,y_train)"
   ]
  },
  {
   "cell_type": "code",
   "execution_count": 19,
   "metadata": {
    "collapsed": false
   },
   "outputs": [
    {
     "name": "stdout",
     "output_type": "stream",
     "text": [
      "TV**0*Radio**0 False\n",
      "TV**0*Radio**1 False\n",
      "TV**0*Radio**2 False\n",
      "TV**0*Radio**3 False\n",
      "TV**0*Radio**4 False\n",
      "TV**1*Radio**0 False\n",
      "TV**1*Radio**1 False\n",
      "TV**1*Radio**2 False\n",
      "TV**1*Radio**3 False\n",
      "TV**1*Radio**4 False\n",
      "TV**2*Radio**0 False\n",
      "TV**2*Radio**1 True\n",
      "TV**2*Radio**2 False\n",
      "TV**2*Radio**3 False\n",
      "TV**2*Radio**4 False\n",
      "TV**3*Radio**0 False\n",
      "TV**3*Radio**1 False\n",
      "TV**3*Radio**2 False\n",
      "TV**3*Radio**3 True\n",
      "TV**3*Radio**4 True\n",
      "TV**4*Radio**0 False\n",
      "TV**4*Radio**1 False\n",
      "TV**4*Radio**2 False\n",
      "TV**4*Radio**3 False\n",
      "TV**4*Radio**4 False\n"
     ]
    }
   ],
   "source": [
    "# Print out the predictors we use.  These are the predictors selection by the RFE algorithm\n",
    "# as the most important.\n",
    "for i in range(len(names)):\n",
    "    print names[i],\n",
    "    print selector.get_support()[i]"
   ]
  },
  {
   "cell_type": "code",
   "execution_count": 20,
   "metadata": {
    "collapsed": false
   },
   "outputs": [],
   "source": [
    "# Create data for plotting\n",
    "size = 10\n",
    "\n",
    "xPlot,yPlot = np.meshgrid(np.linspace(0,1,size),\n",
    "                          np.linspace(0,1,size))\n",
    "\n",
    "tmp = []\n",
    "for i in range(degree):\n",
    "    for j in range(degree):\n",
    "        tmp.append( ( (xPlot**i)*(yPlot**j) ).flatten() )\n",
    "\n",
    "zPlot = selector.predict(np.transpose(np.array(tmp)))\n",
    "zPlot = zPlot.reshape([size,size])"
   ]
  },
  {
   "cell_type": "code",
   "execution_count": 21,
   "metadata": {
    "collapsed": false
   },
   "outputs": [],
   "source": [
    "# Plot the data\n",
    "\n",
    "# Select subsets for training and testing\n",
    "X_train_plot,X_test_plot = cross_validation.train_test_split(Xy.ix[:,['TV','Radio']],\n",
    "                                                             test_size=0.8,\n",
    "                                                             random_state=123)\n",
    "myPlot(reg,X_train_plot,y_train,X_test_plot,y_test,xPlot,yPlot,zPlot)"
   ]
  },
  {
   "cell_type": "code",
   "execution_count": 100,
   "metadata": {
    "collapsed": false
   },
   "outputs": [
    {
     "name": "stdout",
     "output_type": "stream",
     "text": [
      "training error\n",
      "0.00265007247837\n",
      "testing error\n",
      "0.00490752683194\n"
     ]
    }
   ],
   "source": [
    "# Use the metrics package to print our errors\n",
    "print 'training error'\n",
    "print metrics.mean_squared_error(y_train,selector.predict(X_train))\n",
    "print 'testing error'\n",
    "print metrics.mean_squared_error(y_test,selector.predict(X_test))"
   ]
  },
  {
   "cell_type": "markdown",
   "metadata": {},
   "source": [
    "### Back to the notes"
   ]
  },
  {
   "cell_type": "markdown",
   "metadata": {},
   "source": [
    "## Ridge Regression"
   ]
  },
  {
   "cell_type": "code",
   "execution_count": 22,
   "metadata": {
    "collapsed": false
   },
   "outputs": [],
   "source": [
    "# Lasso regression is another method for doing feature selection.\n",
    "# It is, by far, by favorite it is a close cousin of my personal\n",
    "# research topic.  See notes for details...\n",
    "degree=5\n",
    "XCrazy = np.zeros([Xy.shape[0],degree**2])\n",
    "\n",
    "names = []\n",
    "for i in range(degree):\n",
    "    for j in range(degree):\n",
    "        XCrazy[:,i*degree + j] = (Xy['TV']**i)*(Xy['Radio']**j)\n",
    "        names.append('TV**%d*Radio**%d'%(i,j))\n",
    "                     \n",
    "# Select subsets for training and testing\n",
    "X_train,X_test,y_train,y_test = cross_validation.train_test_split(XCrazy,\n",
    "                                                                  y,\n",
    "                                                                  test_size=0.8,\n",
    "                                                                  random_state=123)"
   ]
  },
  {
   "cell_type": "code",
   "execution_count": 23,
   "metadata": {
    "collapsed": false
   },
   "outputs": [
    {
     "data": {
      "text/plain": [
       "Ridge(alpha=0.1, copy_X=True, fit_intercept=True, max_iter=None,\n",
       "   normalize=True, random_state=None, solver='auto', tol=0.001)"
      ]
     },
     "execution_count": 23,
     "metadata": {},
     "output_type": "execute_result"
    }
   ],
   "source": [
    "# Run the solver\n",
    "# alpha=0.1 is good\n",
    "regRidge = linear_model.Ridge(alpha=0.1,fit_intercept=True,normalize=True)\n",
    "regRidge.fit(X_train,y_train)"
   ]
  },
  {
   "cell_type": "code",
   "execution_count": 24,
   "metadata": {
    "collapsed": false
   },
   "outputs": [
    {
     "name": "stdout",
     "output_type": "stream",
     "text": [
      "[ 0.22904718]\n",
      "TV**0*Radio**0 0.0\n",
      "TV**0*Radio**1 0.0419186960158\n",
      "TV**0*Radio**2 0.00828593733156\n",
      "TV**0*Radio**3 -0.00363860992963\n",
      "TV**0*Radio**4 -0.00674246754464\n",
      "TV**1*Radio**0 0.230793741584\n",
      "TV**1*Radio**1 0.237505006993\n",
      "TV**1*Radio**2 0.172627232599\n",
      "TV**1*Radio**3 0.125826237921\n",
      "TV**1*Radio**4 0.0902523246675\n",
      "TV**2*Radio**0 0.0585495124821\n",
      "TV**2*Radio**1 0.111769896265\n",
      "TV**2*Radio**2 0.0708431433845\n",
      "TV**2*Radio**3 0.0276071315276\n",
      "TV**2*Radio**4 -0.0110985683495\n",
      "TV**3*Radio**0 -0.0140667046249\n",
      "TV**3*Radio**1 0.0395870656911\n",
      "TV**3*Radio**2 0.00637385625144\n",
      "TV**3*Radio**3 -0.0361918400991\n",
      "TV**3*Radio**4 -0.0786018850233\n",
      "TV**4*Radio**0 -0.0497228460804\n",
      "TV**4*Radio**1 -0.000493493435317\n",
      "TV**4*Radio**2 -0.028374220438\n",
      "TV**4*Radio**3 -0.0685555882185\n",
      "TV**4*Radio**4 -0.11133322195\n"
     ]
    },
    {
     "data": {
      "text/plain": [
       "[<matplotlib.lines.Line2D at 0x1f930b70>]"
      ]
     },
     "execution_count": 24,
     "metadata": {},
     "output_type": "execute_result"
    },
    {
     "data": {
      "image/png": "[encoded data removed]",
      "text/plain": [
       "<matplotlib.figure.Figure at 0x172bc550>"
      ]
     },
     "metadata": {},
     "output_type": "display_data"
    }
   ],
   "source": [
    "# Print out the predictors we use.  These betas with non-zero weights are those\n",
    "# selected by the Lasso algorithm as being the most important.  What do you notice?\n",
    "print regRidge.intercept_\n",
    "for i in range(len(regRidge.coef_[0])):\n",
    "    print names[i],regRidge.coef_[0][i]\n",
    "py.plot(regRidge.coef_[0])"
   ]
  },
  {
   "cell_type": "code",
   "execution_count": 25,
   "metadata": {
    "collapsed": false
   },
   "outputs": [],
   "source": [
    "# Create data for plotting\n",
    "size = 10\n",
    "\n",
    "xPlot,yPlot = np.meshgrid(np.linspace(0,1,size),\n",
    "                          np.linspace(0,1,size))\n",
    "\n",
    "tmp = []\n",
    "for i in range(degree):\n",
    "    for j in range(degree):\n",
    "        tmp.append( ( (xPlot**i)*(yPlot**j) ).flatten() )\n",
    "\n",
    "zPlot = regRidge.predict(np.transpose(np.array(tmp)))\n",
    "zPlot = zPlot.reshape([size,size])"
   ]
  },
  {
   "cell_type": "code",
   "execution_count": 26,
   "metadata": {
    "collapsed": false
   },
   "outputs": [],
   "source": [
    "# Plot the data\n",
    "\n",
    "# Select subsets for training and testing\n",
    "X_train_plot,X_test_plot = cross_validation.train_test_split(Xy.ix[:,['TV','Radio']],\n",
    "                                                             test_size=0.8,\n",
    "                                                             random_state=123)\n",
    "myPlot(reg,X_train_plot,y_train,X_test_plot,y_test,xPlot,yPlot,zPlot)"
   ]
  },
  {
   "cell_type": "code",
   "execution_count": 106,
   "metadata": {
    "collapsed": false
   },
   "outputs": [
    {
     "name": "stdout",
     "output_type": "stream",
     "text": [
      "training error\n",
      "0.000889778118984\n",
      "testing error\n",
      "0.0017501588195\n"
     ]
    }
   ],
   "source": [
    "# Use the metrics package to print our errors\n",
    "print 'training error'\n",
    "print metrics.mean_squared_error(y_train,regRidge.predict(X_train))\n",
    "print 'testing error'\n",
    "print metrics.mean_squared_error(y_test,regRidge.predict(X_test))"
   ]
  },
  {
   "cell_type": "markdown",
   "metadata": {},
   "source": [
    "### Back to the notes."
   ]
  },
  {
   "cell_type": "markdown",
   "metadata": {},
   "source": [
    "## Lasso!"
   ]
  },
  {
   "cell_type": "code",
   "execution_count": 28,
   "metadata": {
    "collapsed": false
   },
   "outputs": [],
   "source": [
    "# Lasso regression is another method for doing feature selection.\n",
    "# It is, by far, by favorite it is a close cousin of my personal\n",
    "# research topic.  See notes for details...\n",
    "degree=5\n",
    "XCrazy = np.zeros([Xy.shape[0],degree**2])\n",
    "\n",
    "names = []\n",
    "for i in range(degree):\n",
    "    for j in range(degree):\n",
    "        XCrazy[:,i*degree + j] = (Xy['TV']**i)*(Xy['Radio']**j)\n",
    "        names.append('TV**%d*Radio**%d'%(i,j))\n",
    "                     \n",
    "# Select subsets for training and testing\n",
    "X_train,X_test,y_train,y_test = cross_validation.train_test_split(XCrazy,\n",
    "                                                                  y,\n",
    "                                                                  test_size=0.8,\n",
    "                                                                  random_state=123)"
   ]
  },
  {
   "cell_type": "code",
   "execution_count": 29,
   "metadata": {
    "collapsed": false
   },
   "outputs": [
    {
     "data": {
      "text/plain": [
       "Lasso(alpha=0.002, copy_X=True, fit_intercept=True, max_iter=1000,\n",
       "   normalize=True, positive=False, precompute=False, random_state=None,\n",
       "   selection='cyclic', tol=0.0001, warm_start=False)"
      ]
     },
     "execution_count": 29,
     "metadata": {},
     "output_type": "execute_result"
    }
   ],
   "source": [
    "# Run the solver\n",
    "regLasso = linear_model.Lasso(alpha=0.002,fit_intercept=True,normalize=True)\n",
    "regLasso.fit(X_train,y_train)"
   ]
  },
  {
   "cell_type": "code",
   "execution_count": 30,
   "metadata": {
    "collapsed": false
   },
   "outputs": [
    {
     "name": "stdout",
     "output_type": "stream",
     "text": [
      "[ 0.27046738]\n",
      "TV**0*Radio**0 0.0\n",
      "TV**0*Radio**1 0.0\n",
      "TV**0*Radio**2 0.0\n",
      "TV**0*Radio**3 0.0\n",
      "TV**0*Radio**4 0.0\n",
      "TV**1*Radio**0 0.135662574951\n",
      "TV**1*Radio**1 0.670730481986\n",
      "TV**1*Radio**2 0.0\n",
      "TV**1*Radio**3 0.0\n",
      "TV**1*Radio**4 0.0\n",
      "TV**2*Radio**0 0.0\n",
      "TV**2*Radio**1 0.0\n",
      "TV**2*Radio**2 0.0\n",
      "TV**2*Radio**3 0.0\n",
      "TV**2*Radio**4 0.0\n",
      "TV**3*Radio**0 0.0\n",
      "TV**3*Radio**1 0.0\n",
      "TV**3*Radio**2 0.0\n",
      "TV**3*Radio**3 0.0\n",
      "TV**3*Radio**4 0.0\n",
      "TV**4*Radio**0 0.0\n",
      "TV**4*Radio**1 0.0\n",
      "TV**4*Radio**2 0.0\n",
      "TV**4*Radio**3 0.0\n",
      "TV**4*Radio**4 0.0\n"
     ]
    },
    {
     "data": {
      "text/plain": [
       "[<matplotlib.lines.Line2D at 0x1f4d15c0>]"
      ]
     },
     "execution_count": 30,
     "metadata": {},
     "output_type": "execute_result"
    },
    {
     "data": {
      "image/png": "[encoded data removed]",
      "text/plain": [
       "<matplotlib.figure.Figure at 0x174b8a90>"
      ]
     },
     "metadata": {},
     "output_type": "display_data"
    }
   ],
   "source": [
    "# Print out the predictors we use.  These betas with non-zero weights are those\n",
    "# selected by the Lasso algorithm as being the most important.  What do you notice?\n",
    "print regLasso.intercept_\n",
    "for i in range(len(regLasso.coef_)):\n",
    "    print names[i],regLasso.coef_[i]\n",
    "py.plot(regLasso.coef_)"
   ]
  },
  {
   "cell_type": "code",
   "execution_count": 31,
   "metadata": {
    "collapsed": false
   },
   "outputs": [],
   "source": [
    "# Create data for plotting\n",
    "size = 10\n",
    "\n",
    "xPlot,yPlot = np.meshgrid(np.linspace(0,1,size),\n",
    "                          np.linspace(0,1,size))\n",
    "\n",
    "tmp = []\n",
    "for i in range(degree):\n",
    "    for j in range(degree):\n",
    "        tmp.append( ( (xPlot**i)*(yPlot**j) ).flatten() )\n",
    "\n",
    "zPlot = regLasso.predict(np.transpose(np.array(tmp)))\n",
    "zPlot = zPlot.reshape([size,size])"
   ]
  },
  {
   "cell_type": "code",
   "execution_count": 32,
   "metadata": {
    "collapsed": false
   },
   "outputs": [],
   "source": [
    "# Plot the data\n",
    "\n",
    "# Select subsets for training and testing\n",
    "X_train_plot,X_test_plot = cross_validation.train_test_split(Xy.ix[:,['TV','Radio']],\n",
    "                                                             test_size=0.8,\n",
    "                                                             random_state=123)\n",
    "myPlot(reg,X_train_plot,y_train,X_test_plot,y_test,xPlot,yPlot,zPlot)"
   ]
  },
  {
   "cell_type": "code",
   "execution_count": 112,
   "metadata": {
    "collapsed": false
   },
   "outputs": [
    {
     "name": "stdout",
     "output_type": "stream",
     "text": [
      "training error\n",
      "0.00118345029043\n",
      "testing error\n",
      "0.002103671494\n"
     ]
    }
   ],
   "source": [
    "# Use the metrics package to print our errors\n",
    "print 'training error'\n",
    "print metrics.mean_squared_error(y_train,regLasso.predict(X_train))\n",
    "print 'testing error'\n",
    "print metrics.mean_squared_error(y_test,regLasso.predict(X_test))"
   ]
  },
  {
   "cell_type": "markdown",
   "metadata": {},
   "source": [
    "### Back to the notes."
   ]
  },
  {
   "cell_type": "code",
   "execution_count": 27,
   "metadata": {
    "collapsed": false
   },
   "outputs": [
    {
     "data": {
      "text/plain": [
       "1048576"
      ]
     },
     "execution_count": 27,
     "metadata": {},
     "output_type": "execute_result"
    }
   ],
   "source": [
    "2**20"
   ]
  },
  {
   "cell_type": "code",
   "execution_count": null,
   "metadata": {
    "collapsed": true
   },
   "outputs": [],
   "source": []
  }
 ],
 "metadata": {
  "kernelspec": {
   "display_name": "Python 2",
   "language": "python",
   "name": "python2"
  },
  "language_info": {
   "codemirror_mode": {
    "name": "ipython",
    "version": 2
   },
   "file_extension": ".py",
   "mimetype": "text/x-python",
   "name": "python",
   "nbconvert_exporter": "python",
   "pygments_lexer": "ipython2",
   "version": "2.7.10"
  }
 },
 "nbformat": 4,
 "nbformat_minor": 0
}
